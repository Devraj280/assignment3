{
  "nbformat": 4,
  "nbformat_minor": 0,
  "metadata": {
    "colab": {
      "provenance": [],
      "authorship_tag": "ABX9TyNbkwFwMVmzRgipUdvDJXPz",
      "include_colab_link": true
    },
    "kernelspec": {
      "name": "python3",
      "display_name": "Python 3"
    },
    "language_info": {
      "name": "python"
    }
  },
  "cells": [
    {
      "cell_type": "markdown",
      "metadata": {
        "id": "view-in-github",
        "colab_type": "text"
      },
      "source": [
        "<a href=\"https://colab.research.google.com/github/Devraj280/assignment3/blob/main/TDP3.ipynb\" target=\"_parent\"><img src=\"https://colab.research.google.com/assets/colab-badge.svg\" alt=\"Open In Colab\"/></a>"
      ]
    },
    {
      "cell_type": "markdown",
      "source": [
        "#Task 1: Calculate Factorial Using a Function\n",
        "\n",
        "Problem Statement: Write a Python program that:\n",
        "1.   Defines a function named factorial that takes a number as an argument and calculates its factorial using a loop or recursion.\n",
        "2.   Returns the calculated factorial.\n",
        "3.   Calls the function with a sample number and prints the output."
      ],
      "metadata": {
        "id": "KINF0blufX0j"
      }
    },
    {
      "cell_type": "code",
      "execution_count": 3,
      "metadata": {
        "colab": {
          "base_uri": "https://localhost:8080/"
        },
        "id": "pQk8jUJbfTs6",
        "outputId": "48c7c844-31e4-4b1a-9ed9-484cad632bda"
      },
      "outputs": [
        {
          "output_type": "stream",
          "name": "stdout",
          "text": [
            "Factorial of 5 is:120\n"
          ]
        }
      ],
      "source": [
        "def factorial(n):\n",
        "  if n==0:\n",
        "    return 1\n",
        "  else:\n",
        "    return n*factorial(n-1)\n",
        "\n",
        "fact5=factorial(5)\n",
        "print(\"Factorial of 5 is:\" + str(fact5))"
      ]
    },
    {
      "cell_type": "markdown",
      "source": [
        "#Task 2: Using the Math Module for Calculations\n",
        "\n",
        "Problem Statement: Write a Python program that:\n",
        "1.   Asks the user for a number as input.\n",
        "2.   Uses the math module to calculate the:\n",
        "\n",
        "   o   Square root of the number\n",
        "\n",
        "   o   Natural logarithm (log base e) of the number\n",
        "\n",
        "   o   Sine of the number (in radians)\n",
        "3.   Displays the calculated results."
      ],
      "metadata": {
        "id": "pBc_gsuEgKhO"
      }
    },
    {
      "cell_type": "code",
      "source": [
        "import math\n",
        "num=float(input(\"Enter a number:\"))\n",
        "sqr=math.sqrt(num)\n",
        "log=math.log(num)\n",
        "sin=math.sin(num)\n",
        "print(\"Square root of the number is:\" + str(sqr))\n",
        "print(\"Log of the number is:\" + str(log))\n",
        "print(\"Sine of the number is:\" + str(sin))\n"
      ],
      "metadata": {
        "colab": {
          "base_uri": "https://localhost:8080/"
        },
        "id": "1ztgB8Ihf63O",
        "outputId": "8559620e-aa24-47f0-c097-8a4ed0cdedd2"
      },
      "execution_count": 6,
      "outputs": [
        {
          "output_type": "stream",
          "name": "stdout",
          "text": [
            "Enter a number:25\n",
            "Square root of the number is:5.0\n",
            "Log of the number is:3.2188758248682006\n",
            "Sine of the number is:-0.13235175009777303\n"
          ]
        }
      ]
    }
  ]
}